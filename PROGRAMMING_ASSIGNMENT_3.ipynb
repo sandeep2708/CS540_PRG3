{
 "cells": [
  {
   "cell_type": "code",
   "execution_count": 8,
   "id": "a4866882",
   "metadata": {},
   "outputs": [
    {
     "name": "stdout",
     "output_type": "stream",
     "text": [
      "Logical Address: 0x3a7f => Page Number: 0x3a, Offset: 0x7f\n",
      "Logical Address: 0xabcd => Page Number: 0xab, Offset: 0xcd\n",
      "Logical Address: 0x5678 => Page Number: 0x56, Offset: 0x78\n"
     ]
    }
   ],
   "source": [
    "class PageFrameTable:\n",
    "    def __init__(self, num_pages):\n",
    "        self.page_frame_dict = {}  # Renamed table to page_frame_dict\n",
    "        self.num_pages = num_pages  # Retained num_pages for clarity\n",
    "\n",
    "    def map_page_to_frame(self, page_num, frame_num):\n",
    "        self.page_frame_dict[page_num] = frame_num  # Renamed variables for clarity\n",
    "\n",
    "    def get_frame_number(self, page_num):\n",
    "        return self.page_frame_dict.get(page_num, None)  # Renamed variables for consistency\n",
    "\n",
    "\n",
    "def translate_logical_address(logical_address, page_size):\n",
    "    return divmod(logical_address, page_size)\n",
    "\n",
    "\n",
    "def main():\n",
    "    page_size = 256  # Assuming page size of 256 bytes\n",
    "    page_frame_table = PageFrameTable(256)  # Assuming 256 pages\n",
    "\n",
    "    # Sample Page/Frame Mapping\n",
    "    page_frame_table.map_page_to_frame(0x0D, 0)\n",
    "    page_frame_table.map_page_to_frame(0x2B, 1)\n",
    "    page_frame_table.map_page_to_frame(0x15, 2)\n",
    "\n",
    "    # Sample Logical Addresses\n",
    "    logical_addresses = [0x3A7F, 0xABCD, 0x5678]\n",
    "\n",
    "    translated_addresses = [(address, *translate_logical_address(address, page_size)) for address in logical_addresses]\n",
    "\n",
    "    for address, page_number, offset in translated_addresses:\n",
    "        print(f\"Logical Address: {hex(address)} => Page Number: {hex(page_number)}, Offset: {hex(offset)}\")\n",
    "\n",
    "\n",
    "\n",
    "if __name__ == \"__main__\":\n",
    "    main()\n"
   ]
  },
  {
   "cell_type": "code",
   "execution_count": null,
   "id": "fe20ebf0",
   "metadata": {},
   "outputs": [],
   "source": []
  }
 ],
 "metadata": {
  "kernelspec": {
   "display_name": "Python 3 (ipykernel)",
   "language": "python",
   "name": "python3"
  },
  "language_info": {
   "codemirror_mode": {
    "name": "ipython",
    "version": 3
   },
   "file_extension": ".py",
   "mimetype": "text/x-python",
   "name": "python",
   "nbconvert_exporter": "python",
   "pygments_lexer": "ipython3",
   "version": "3.10.9"
  }
 },
 "nbformat": 4,
 "nbformat_minor": 5
}
